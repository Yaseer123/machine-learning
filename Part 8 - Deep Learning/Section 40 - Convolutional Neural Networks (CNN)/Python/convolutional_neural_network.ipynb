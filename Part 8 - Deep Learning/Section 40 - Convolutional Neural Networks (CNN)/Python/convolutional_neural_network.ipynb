{
  "cells": [
    {
      "cell_type": "markdown",
      "metadata": {
        "colab_type": "text",
        "id": "3DR-eO17geWu"
      },
      "source": [
        "# Convolutional Neural Network"
      ]
    },
    {
      "cell_type": "markdown",
      "metadata": {
        "colab_type": "text",
        "id": "EMefrVPCg-60"
      },
      "source": [
        "### Importing the libraries"
      ]
    },
    {
      "cell_type": "code",
      "execution_count": 1,
      "metadata": {},
      "outputs": [],
      "source": [
        "import tensorflow as tf\n",
        "from keras.preprocessing.image import ImageDataGenerator"
      ]
    },
    {
      "cell_type": "code",
      "execution_count": 2,
      "metadata": {},
      "outputs": [
        {
          "data": {
            "text/plain": [
              "'2.14.0'"
            ]
          },
          "execution_count": 2,
          "metadata": {},
          "output_type": "execute_result"
        }
      ],
      "source": [
        "tf.__version__"
      ]
    },
    {
      "cell_type": "markdown",
      "metadata": {
        "colab_type": "text",
        "id": "oxQxCBWyoGPE"
      },
      "source": [
        "## Part 1 - Data Preprocessing"
      ]
    },
    {
      "cell_type": "markdown",
      "metadata": {
        "colab_type": "text",
        "id": "MvE-heJNo3GG"
      },
      "source": [
        "### Preprocessing the Training set"
      ]
    },
    {
      "cell_type": "code",
      "execution_count": 3,
      "metadata": {},
      "outputs": [
        {
          "name": "stdout",
          "output_type": "stream",
          "text": [
            "Found 8000 images belonging to 2 classes.\n"
          ]
        }
      ],
      "source": [
        "train_datagen = ImageDataGenerator(rescale=1./255,\n",
        "                                   shear_range=0.2,\n",
        "                                   zoom_range=0.2,\n",
        "                                   horizontal_flip=True)\n",
        "training_set = train_datagen.flow_from_directory(\"dataset/training_set\",\n",
        "                                                 target_size=(64,64),\n",
        "                                                 batch_size=32,\n",
        "                                                 class_mode=\"binary\")"
      ]
    },
    {
      "cell_type": "markdown",
      "metadata": {
        "colab_type": "text",
        "id": "mrCMmGw9pHys"
      },
      "source": [
        "### Preprocessing the Test set"
      ]
    },
    {
      "cell_type": "code",
      "execution_count": 4,
      "metadata": {},
      "outputs": [
        {
          "name": "stdout",
          "output_type": "stream",
          "text": [
            "Found 2000 images belonging to 2 classes.\n"
          ]
        }
      ],
      "source": [
        "test_datagen = ImageDataGenerator(rescale = 1./255)\n",
        "test_set = test_datagen.flow_from_directory(\"dataset/test_set\",\n",
        "                                            target_size=(64,64),\n",
        "                                            batch_size=32,\n",
        "                                            class_mode=\"binary\")"
      ]
    },
    {
      "cell_type": "markdown",
      "metadata": {
        "colab_type": "text",
        "id": "af8O4l90gk7B"
      },
      "source": [
        "## Part 2 - Building the CNN"
      ]
    },
    {
      "cell_type": "markdown",
      "metadata": {
        "colab_type": "text",
        "id": "ces1gXY2lmoX"
      },
      "source": [
        "### Initialising the CNN"
      ]
    },
    {
      "cell_type": "code",
      "execution_count": 5,
      "metadata": {},
      "outputs": [],
      "source": [
        "cnn = tf.keras.models.Sequential()"
      ]
    },
    {
      "cell_type": "markdown",
      "metadata": {
        "colab_type": "text",
        "id": "u5YJj_XMl5LF"
      },
      "source": [
        "### Step 1 - Convolution"
      ]
    },
    {
      "cell_type": "code",
      "execution_count": 6,
      "metadata": {},
      "outputs": [],
      "source": [
        "cnn.add(tf.keras.layers.Conv2D(filters=32,kernel_size=3,activation=\"relu\",input_shape=[64,64,3]))"
      ]
    },
    {
      "cell_type": "markdown",
      "metadata": {
        "colab_type": "text",
        "id": "tf87FpvxmNOJ"
      },
      "source": [
        "### Step 2 - Pooling"
      ]
    },
    {
      "cell_type": "code",
      "execution_count": 7,
      "metadata": {},
      "outputs": [],
      "source": [
        "cnn.add(tf.keras.layers.MaxPool2D(pool_size=2,strides=2))"
      ]
    },
    {
      "cell_type": "markdown",
      "metadata": {
        "colab_type": "text",
        "id": "xaTOgD8rm4mU"
      },
      "source": [
        "### Adding a second convolutional layer"
      ]
    },
    {
      "cell_type": "code",
      "execution_count": 8,
      "metadata": {},
      "outputs": [],
      "source": [
        "cnn.add(tf.keras.layers.Conv2D(filters=32,kernel_size=3,activation=\"relu\"))\n",
        "cnn.add(tf.keras.layers.MaxPool2D(pool_size=2,strides=2))"
      ]
    },
    {
      "cell_type": "markdown",
      "metadata": {
        "colab_type": "text",
        "id": "tmiEuvTunKfk"
      },
      "source": [
        "### Step 3 - Flattening"
      ]
    },
    {
      "cell_type": "code",
      "execution_count": 9,
      "metadata": {},
      "outputs": [],
      "source": [
        "cnn.add(tf.keras.layers.Flatten())"
      ]
    },
    {
      "cell_type": "markdown",
      "metadata": {
        "colab_type": "text",
        "id": "dAoSECOm203v"
      },
      "source": [
        "### Step 4 - Full Connection"
      ]
    },
    {
      "cell_type": "code",
      "execution_count": 10,
      "metadata": {},
      "outputs": [],
      "source": [
        "cnn.add(tf.keras.layers.Dense(units = 128,activation=\"relu\"))"
      ]
    },
    {
      "cell_type": "markdown",
      "metadata": {
        "colab_type": "text",
        "id": "yTldFvbX28Na"
      },
      "source": [
        "### Step 5 - Output Layer"
      ]
    },
    {
      "cell_type": "code",
      "execution_count": 11,
      "metadata": {},
      "outputs": [],
      "source": [
        "cnn.add(tf.keras.layers.Dense(units=1,activation = \"sigmoid\"))"
      ]
    },
    {
      "cell_type": "markdown",
      "metadata": {
        "colab_type": "text",
        "id": "D6XkI90snSDl"
      },
      "source": [
        "## Part 3 - Training the CNN"
      ]
    },
    {
      "cell_type": "markdown",
      "metadata": {
        "colab_type": "text",
        "id": "vfrFQACEnc6i"
      },
      "source": [
        "### Compiling the CNN"
      ]
    },
    {
      "cell_type": "code",
      "execution_count": 12,
      "metadata": {},
      "outputs": [],
      "source": [
        "from keras.losses import binary_crossentropy\n",
        "\n",
        "cnn.compile(optimizer='adam', loss=binary_crossentropy, metrics=['accuracy'])\n"
      ]
    },
    {
      "cell_type": "markdown",
      "metadata": {
        "colab_type": "text",
        "id": "ehS-v3MIpX2h"
      },
      "source": [
        "### Training the CNN on the Training set and evaluating it on the Test set"
      ]
    },
    {
      "cell_type": "code",
      "execution_count": 13,
      "metadata": {},
      "outputs": [
        {
          "name": "stdout",
          "output_type": "stream",
          "text": [
            "Epoch 1/25\n",
            "250/250 [==============================] - 30s 118ms/step - loss: 0.6777 - accuracy: 0.5786 - val_loss: 0.6403 - val_accuracy: 0.6345\n",
            "Epoch 2/25\n",
            "250/250 [==============================] - 29s 116ms/step - loss: 0.6254 - accuracy: 0.6620 - val_loss: 0.5929 - val_accuracy: 0.7020\n",
            "Epoch 3/25\n",
            "250/250 [==============================] - 28s 112ms/step - loss: 0.5829 - accuracy: 0.6939 - val_loss: 0.5444 - val_accuracy: 0.7305\n",
            "Epoch 4/25\n",
            "250/250 [==============================] - 31s 124ms/step - loss: 0.5479 - accuracy: 0.7230 - val_loss: 0.5290 - val_accuracy: 0.7405\n",
            "Epoch 5/25\n",
            "250/250 [==============================] - 30s 119ms/step - loss: 0.5223 - accuracy: 0.7439 - val_loss: 0.5323 - val_accuracy: 0.7440\n",
            "Epoch 6/25\n",
            "250/250 [==============================] - 29s 115ms/step - loss: 0.4904 - accuracy: 0.7626 - val_loss: 0.4945 - val_accuracy: 0.7760\n",
            "Epoch 7/25\n",
            "250/250 [==============================] - 30s 122ms/step - loss: 0.4657 - accuracy: 0.7757 - val_loss: 0.4934 - val_accuracy: 0.7665\n",
            "Epoch 8/25\n",
            "250/250 [==============================] - 34s 138ms/step - loss: 0.4528 - accuracy: 0.7890 - val_loss: 0.5850 - val_accuracy: 0.7360\n",
            "Epoch 9/25\n",
            "250/250 [==============================] - 31s 123ms/step - loss: 0.4368 - accuracy: 0.7962 - val_loss: 0.5154 - val_accuracy: 0.7650\n",
            "Epoch 10/25\n",
            "250/250 [==============================] - 30s 121ms/step - loss: 0.4079 - accuracy: 0.8150 - val_loss: 0.4722 - val_accuracy: 0.7850\n",
            "Epoch 11/25\n",
            "250/250 [==============================] - 35s 142ms/step - loss: 0.3944 - accuracy: 0.8181 - val_loss: 0.4584 - val_accuracy: 0.8075\n",
            "Epoch 12/25\n",
            "250/250 [==============================] - 29s 116ms/step - loss: 0.4015 - accuracy: 0.8184 - val_loss: 0.4665 - val_accuracy: 0.7985\n",
            "Epoch 13/25\n",
            "250/250 [==============================] - 29s 114ms/step - loss: 0.3772 - accuracy: 0.8289 - val_loss: 0.4616 - val_accuracy: 0.8015\n",
            "Epoch 14/25\n",
            "250/250 [==============================] - 27s 109ms/step - loss: 0.3555 - accuracy: 0.8430 - val_loss: 0.5122 - val_accuracy: 0.7885\n",
            "Epoch 15/25\n",
            "250/250 [==============================] - 29s 115ms/step - loss: 0.3391 - accuracy: 0.8520 - val_loss: 0.5117 - val_accuracy: 0.7835\n",
            "Epoch 16/25\n",
            "250/250 [==============================] - 32s 127ms/step - loss: 0.3206 - accuracy: 0.8595 - val_loss: 0.4670 - val_accuracy: 0.8135\n",
            "Epoch 17/25\n",
            "250/250 [==============================] - 30s 120ms/step - loss: 0.3073 - accuracy: 0.8679 - val_loss: 0.4913 - val_accuracy: 0.8015\n",
            "Epoch 18/25\n",
            "250/250 [==============================] - 30s 118ms/step - loss: 0.2989 - accuracy: 0.8742 - val_loss: 0.4853 - val_accuracy: 0.7985\n",
            "Epoch 19/25\n",
            "250/250 [==============================] - 30s 119ms/step - loss: 0.2762 - accuracy: 0.8849 - val_loss: 0.4862 - val_accuracy: 0.8035\n",
            "Epoch 20/25\n",
            "250/250 [==============================] - 31s 123ms/step - loss: 0.2753 - accuracy: 0.8802 - val_loss: 0.5079 - val_accuracy: 0.8050\n",
            "Epoch 21/25\n",
            "250/250 [==============================] - 30s 122ms/step - loss: 0.2613 - accuracy: 0.8900 - val_loss: 0.4975 - val_accuracy: 0.8050\n",
            "Epoch 22/25\n",
            "250/250 [==============================] - 30s 118ms/step - loss: 0.2421 - accuracy: 0.8982 - val_loss: 0.4953 - val_accuracy: 0.8075\n",
            "Epoch 23/25\n",
            "250/250 [==============================] - 31s 125ms/step - loss: 0.2211 - accuracy: 0.9086 - val_loss: 0.5359 - val_accuracy: 0.7975\n",
            "Epoch 24/25\n",
            "250/250 [==============================] - 30s 119ms/step - loss: 0.2186 - accuracy: 0.9103 - val_loss: 0.5300 - val_accuracy: 0.8035\n",
            "Epoch 25/25\n",
            "250/250 [==============================] - 31s 125ms/step - loss: 0.2081 - accuracy: 0.9120 - val_loss: 0.5186 - val_accuracy: 0.8135\n"
          ]
        },
        {
          "data": {
            "text/plain": [
              "<keras.src.callbacks.History at 0x178e05f90>"
            ]
          },
          "execution_count": 13,
          "metadata": {},
          "output_type": "execute_result"
        }
      ],
      "source": [
        "cnn.fit(x = training_set, validation_data = test_set, epochs = 25)\n"
      ]
    },
    {
      "cell_type": "markdown",
      "metadata": {
        "colab_type": "text",
        "id": "U3PZasO0006Z"
      },
      "source": [
        "## Part 4 - Making a single prediction"
      ]
    },
    {
      "cell_type": "code",
      "execution_count": 20,
      "metadata": {},
      "outputs": [
        {
          "name": "stdout",
          "output_type": "stream",
          "text": [
            "1/1 [==============================] - 0s 18ms/step\n",
            "dog\n"
          ]
        }
      ],
      "source": [
        "import numpy as np\n",
        "from keras.preprocessing import image\n",
        "\n",
        "test_image = image.load_img(\"2.jpeg\", target_size=(64, 64))\n",
        "test_image = image.img_to_array(test_image)\n",
        "test_image = np.expand_dims(test_image, axis=0)\n",
        "result = cnn.predict(test_image)\n",
        "training_set.class_indices\n",
        "if result[0][0]==1:\n",
        "    prediction = \"dog\"\n",
        "else:\n",
        "    prediction =\"cat\"\n",
        "print(prediction)       "
      ]
    }
  ],
  "metadata": {
    "colab": {
      "collapsed_sections": [],
      "name": "convolutional_neural_network.ipynb",
      "provenance": [],
      "toc_visible": true
    },
    "kernelspec": {
      "display_name": "Python 3",
      "name": "python3"
    },
    "language_info": {
      "codemirror_mode": {
        "name": "ipython",
        "version": 3
      },
      "file_extension": ".py",
      "mimetype": "text/x-python",
      "name": "python",
      "nbconvert_exporter": "python",
      "pygments_lexer": "ipython3",
      "version": "3.11.4"
    }
  },
  "nbformat": 4,
  "nbformat_minor": 0
}
